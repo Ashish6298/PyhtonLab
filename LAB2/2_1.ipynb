{
 "cells": [
  {
   "cell_type": "code",
   "execution_count": null,
   "metadata": {},
   "outputs": [],
   "source": [
    "{\n",
    " \"cells\": [\n",
    "  {\n",
    "   \"cell_type\": \"code\",\n",
    "   \"execution_count\": null,\n",
    "   \"metadata\": {},\n",
    "   \"outputs\": [],\n",
    "   \"source\": [\n",
    "    \"class Job:\\n\",\n",
    "    \"    def __init__(self,taskId,deadline,profit):\\n\",\n",
    "    \"        self.taskId = taskId\\n\",\n",
    "    \"        self.deadline = deadline\\n\",\n",
    "    \"        self.profit = profit\\n\",\n",
    "    \"\\n\",\n",
    "    \"def schedulejobs(jobs,T):\\n\",\n",
    "    \"    profit=0\\n\",\n",
    "    \"    slot=[-1]*T\\n\",\n",
    "    \"    jobs.sort(key=lambda x: x.profit, reverse=True)\\n\",\n",
    "    \"    for job in jobs:\\n\",\n",
    "    \"        for j in reversed(range(job.deadline)):\\n\",\n",
    "    \"            slot[j]=job.taskId\\n\",\n",
    "    \"            profit += job.profit\\n\",\n",
    "    \"            break\\n\",\n",
    "    \"    \\n\",\n",
    "    \"    print('The scheduled jobs are ', list(filter(lambda x: x!=-1,slot)))\\n\",\n",
    "    \"    print('The total profit earned is ', profit)\\n\",\n",
    "    \"\\n\",\n",
    "    \"if __name__ == '__main__':\\n\",\n",
    "    \"    jobs=[Job(1,2,20),Job(2,2,15),Job(3,1,10),Job(4,3,5),Job(5,3,1)]\\n\",\n",
    "    \"    T=3\\n\",\n",
    "    \"    schedulejobs(jobs, T)\"\n",
    "   ]\n",
    "  }\n",
    " ],\n",
    " \"metadata\": {\n",
    "  \"kernelspec\": {\n",
    "   \"display_name\": \"Python 3\",\n",
    "   \"language\": \"python\",\n",
    "   \"name\": \"python3\"\n",
    "  },\n",
    "  \"language_info\": {\n",
    "   \"name\": \"python\",\n",
    "   \"version\": \"3.10.4\"\n",
    "  },\n",
    "  \"orig_nbformat\": 4\n",
    " },\n",
    " \"nbformat\": 4,\n",
    " \"nbformat_minor\": 2\n",
    "}"
   ]
  }
 ],
 "metadata": {
  "language_info": {
   "name": "python"
  },
  "orig_nbformat": 4
 },
 "nbformat": 4,
 "nbformat_minor": 2
}
